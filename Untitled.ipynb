{
 "cells": [
  {
   "cell_type": "markdown",
   "id": "57980018",
   "metadata": {
    "toc": true
   },
   "source": [
    "<h1>Table of Contents<span class=\"tocSkip\"></span></h1>\n",
    "<div class=\"toc\"><ul class=\"toc-item\"><li><span><a href=\"#Import-Packages\" data-toc-modified-id=\"Import-Packages-1\"><span class=\"toc-item-num\">1&nbsp;&nbsp;</span>Import Packages</a></span></li><li><span><a href=\"#Import-Results-from-AMPL\" data-toc-modified-id=\"Import-Results-from-AMPL-2\"><span class=\"toc-item-num\">2&nbsp;&nbsp;</span>Import Results from AMPL</a></span></li><li><span><a href=\"#Get-the-Combinations-and-Probabilities-for-each-Row\" data-toc-modified-id=\"Get-the-Combinations-and-Probabilities-for-each-Row-3\"><span class=\"toc-item-num\">3&nbsp;&nbsp;</span>Get the Combinations and Probabilities for each Row</a></span></li><li><span><a href=\"#Simulations\" data-toc-modified-id=\"Simulations-4\"><span class=\"toc-item-num\">4&nbsp;&nbsp;</span>Simulations</a></span><ul class=\"toc-item\"><li><span><a href=\"#Top-Cards-Method\" data-toc-modified-id=\"Top-Cards-Method-4.1\"><span class=\"toc-item-num\">4.1&nbsp;&nbsp;</span>Top Cards Method</a></span></li><li><span><a href=\"#Remove-Card-Method\" data-toc-modified-id=\"Remove-Card-Method-4.2\"><span class=\"toc-item-num\">4.2&nbsp;&nbsp;</span>Remove Card Method</a></span></li></ul></li></ul></div>"
   ]
  },
  {
   "cell_type": "markdown",
   "id": "51d83586",
   "metadata": {},
   "source": [
    "# Import Packages"
   ]
  },
  {
   "cell_type": "code",
   "execution_count": 1,
   "id": "3b8421bd",
   "metadata": {
    "ExecuteTime": {
     "end_time": "2022-06-15T22:07:05.665466Z",
     "start_time": "2022-06-15T22:07:05.468579Z"
    }
   },
   "outputs": [],
   "source": [
    "import pandas as pd\n",
    "import math\n",
    "import random"
   ]
  },
  {
   "cell_type": "markdown",
   "id": "48aa2a06",
   "metadata": {},
   "source": [
    "# Import Results from AMPL"
   ]
  },
  {
   "cell_type": "code",
   "execution_count": 2,
   "id": "4dba8086",
   "metadata": {
    "ExecuteTime": {
     "end_time": "2022-06-15T22:07:05.705808Z",
     "start_time": "2022-06-15T22:07:05.666619Z"
    }
   },
   "outputs": [
    {
     "data": {
      "text/html": [
       "<div>\n",
       "<style scoped>\n",
       "    .dataframe tbody tr th:only-of-type {\n",
       "        vertical-align: middle;\n",
       "    }\n",
       "\n",
       "    .dataframe tbody tr th {\n",
       "        vertical-align: top;\n",
       "    }\n",
       "\n",
       "    .dataframe thead th {\n",
       "        text-align: right;\n",
       "    }\n",
       "</style>\n",
       "<table border=\"1\" class=\"dataframe\">\n",
       "  <thead>\n",
       "    <tr style=\"text-align: right;\">\n",
       "      <th></th>\n",
       "      <th>01_ace</th>\n",
       "      <th>02_two</th>\n",
       "      <th>03_three</th>\n",
       "      <th>04_four</th>\n",
       "      <th>05_five</th>\n",
       "      <th>06_six</th>\n",
       "      <th>07_seven</th>\n",
       "      <th>08_eight</th>\n",
       "      <th>09_nine</th>\n",
       "      <th>10_ten</th>\n",
       "      <th>11_jack</th>\n",
       "      <th>12_queen</th>\n",
       "      <th>13_king</th>\n",
       "    </tr>\n",
       "  </thead>\n",
       "  <tbody>\n",
       "    <tr>\n",
       "      <th>0</th>\n",
       "      <td>0.0</td>\n",
       "      <td>2.0</td>\n",
       "      <td>3.0</td>\n",
       "      <td>1.0</td>\n",
       "      <td>2.0</td>\n",
       "      <td>1.0</td>\n",
       "      <td>1.0</td>\n",
       "      <td>0.0</td>\n",
       "      <td>0.0</td>\n",
       "      <td>0.0</td>\n",
       "      <td>0</td>\n",
       "      <td>1</td>\n",
       "      <td>0</td>\n",
       "    </tr>\n",
       "    <tr>\n",
       "      <th>1</th>\n",
       "      <td>0.0</td>\n",
       "      <td>1.0</td>\n",
       "      <td>0.0</td>\n",
       "      <td>0.0</td>\n",
       "      <td>2.0</td>\n",
       "      <td>0.0</td>\n",
       "      <td>0.0</td>\n",
       "      <td>0.0</td>\n",
       "      <td>0.0</td>\n",
       "      <td>4.0</td>\n",
       "      <td>0</td>\n",
       "      <td>0</td>\n",
       "      <td>0</td>\n",
       "    </tr>\n",
       "    <tr>\n",
       "      <th>2</th>\n",
       "      <td>2.0</td>\n",
       "      <td>0.0</td>\n",
       "      <td>2.0</td>\n",
       "      <td>1.0</td>\n",
       "      <td>2.0</td>\n",
       "      <td>0.0</td>\n",
       "      <td>0.0</td>\n",
       "      <td>0.0</td>\n",
       "      <td>0.0</td>\n",
       "      <td>3.0</td>\n",
       "      <td>0</td>\n",
       "      <td>0</td>\n",
       "      <td>0</td>\n",
       "    </tr>\n",
       "    <tr>\n",
       "      <th>3</th>\n",
       "      <td>2.0</td>\n",
       "      <td>0.0</td>\n",
       "      <td>1.0</td>\n",
       "      <td>1.0</td>\n",
       "      <td>2.0</td>\n",
       "      <td>0.0</td>\n",
       "      <td>0.0</td>\n",
       "      <td>0.0</td>\n",
       "      <td>0.0</td>\n",
       "      <td>2.0</td>\n",
       "      <td>0</td>\n",
       "      <td>0</td>\n",
       "      <td>1</td>\n",
       "    </tr>\n",
       "    <tr>\n",
       "      <th>4</th>\n",
       "      <td>0.0</td>\n",
       "      <td>0.0</td>\n",
       "      <td>0.0</td>\n",
       "      <td>0.0</td>\n",
       "      <td>2.0</td>\n",
       "      <td>0.0</td>\n",
       "      <td>0.0</td>\n",
       "      <td>0.0</td>\n",
       "      <td>0.0</td>\n",
       "      <td>3.0</td>\n",
       "      <td>0</td>\n",
       "      <td>1</td>\n",
       "      <td>0</td>\n",
       "    </tr>\n",
       "    <tr>\n",
       "      <th>...</th>\n",
       "      <td>...</td>\n",
       "      <td>...</td>\n",
       "      <td>...</td>\n",
       "      <td>...</td>\n",
       "      <td>...</td>\n",
       "      <td>...</td>\n",
       "      <td>...</td>\n",
       "      <td>...</td>\n",
       "      <td>...</td>\n",
       "      <td>...</td>\n",
       "      <td>...</td>\n",
       "      <td>...</td>\n",
       "      <td>...</td>\n",
       "    </tr>\n",
       "    <tr>\n",
       "      <th>41841</th>\n",
       "      <td>0.0</td>\n",
       "      <td>0.0</td>\n",
       "      <td>0.0</td>\n",
       "      <td>0.0</td>\n",
       "      <td>1.0</td>\n",
       "      <td>1.0</td>\n",
       "      <td>1.0</td>\n",
       "      <td>0.0</td>\n",
       "      <td>1.0</td>\n",
       "      <td>0.0</td>\n",
       "      <td>0</td>\n",
       "      <td>1</td>\n",
       "      <td>1</td>\n",
       "    </tr>\n",
       "    <tr>\n",
       "      <th>41842</th>\n",
       "      <td>1.0</td>\n",
       "      <td>0.0</td>\n",
       "      <td>0.0</td>\n",
       "      <td>0.0</td>\n",
       "      <td>1.0</td>\n",
       "      <td>4.0</td>\n",
       "      <td>0.0</td>\n",
       "      <td>0.0</td>\n",
       "      <td>1.0</td>\n",
       "      <td>0.0</td>\n",
       "      <td>0</td>\n",
       "      <td>0</td>\n",
       "      <td>1</td>\n",
       "    </tr>\n",
       "    <tr>\n",
       "      <th>41843</th>\n",
       "      <td>0.0</td>\n",
       "      <td>0.0</td>\n",
       "      <td>0.0</td>\n",
       "      <td>0.0</td>\n",
       "      <td>1.0</td>\n",
       "      <td>3.0</td>\n",
       "      <td>1.0</td>\n",
       "      <td>0.0</td>\n",
       "      <td>1.0</td>\n",
       "      <td>0.0</td>\n",
       "      <td>0</td>\n",
       "      <td>0</td>\n",
       "      <td>1</td>\n",
       "    </tr>\n",
       "    <tr>\n",
       "      <th>41844</th>\n",
       "      <td>2.0</td>\n",
       "      <td>0.0</td>\n",
       "      <td>0.0</td>\n",
       "      <td>0.0</td>\n",
       "      <td>0.0</td>\n",
       "      <td>0.0</td>\n",
       "      <td>1.0</td>\n",
       "      <td>0.0</td>\n",
       "      <td>2.0</td>\n",
       "      <td>0.0</td>\n",
       "      <td>0</td>\n",
       "      <td>1</td>\n",
       "      <td>1</td>\n",
       "    </tr>\n",
       "    <tr>\n",
       "      <th>41845</th>\n",
       "      <td>2.0</td>\n",
       "      <td>0.0</td>\n",
       "      <td>0.0</td>\n",
       "      <td>0.0</td>\n",
       "      <td>2.0</td>\n",
       "      <td>0.0</td>\n",
       "      <td>0.0</td>\n",
       "      <td>0.0</td>\n",
       "      <td>0.0</td>\n",
       "      <td>4.0</td>\n",
       "      <td>0</td>\n",
       "      <td>0</td>\n",
       "      <td>0</td>\n",
       "    </tr>\n",
       "  </tbody>\n",
       "</table>\n",
       "<p>41846 rows × 13 columns</p>\n",
       "</div>"
      ],
      "text/plain": [
       "       01_ace  02_two  03_three  04_four  05_five  06_six  07_seven  08_eight  \\\n",
       "0         0.0     2.0       3.0      1.0      2.0     1.0       1.0       0.0   \n",
       "1         0.0     1.0       0.0      0.0      2.0     0.0       0.0       0.0   \n",
       "2         2.0     0.0       2.0      1.0      2.0     0.0       0.0       0.0   \n",
       "3         2.0     0.0       1.0      1.0      2.0     0.0       0.0       0.0   \n",
       "4         0.0     0.0       0.0      0.0      2.0     0.0       0.0       0.0   \n",
       "...       ...     ...       ...      ...      ...     ...       ...       ...   \n",
       "41841     0.0     0.0       0.0      0.0      1.0     1.0       1.0       0.0   \n",
       "41842     1.0     0.0       0.0      0.0      1.0     4.0       0.0       0.0   \n",
       "41843     0.0     0.0       0.0      0.0      1.0     3.0       1.0       0.0   \n",
       "41844     2.0     0.0       0.0      0.0      0.0     0.0       1.0       0.0   \n",
       "41845     2.0     0.0       0.0      0.0      2.0     0.0       0.0       0.0   \n",
       "\n",
       "       09_nine  10_ten  11_jack  12_queen  13_king  \n",
       "0          0.0     0.0        0         1        0  \n",
       "1          0.0     4.0        0         0        0  \n",
       "2          0.0     3.0        0         0        0  \n",
       "3          0.0     2.0        0         0        1  \n",
       "4          0.0     3.0        0         1        0  \n",
       "...        ...     ...      ...       ...      ...  \n",
       "41841      1.0     0.0        0         1        1  \n",
       "41842      1.0     0.0        0         0        1  \n",
       "41843      1.0     0.0        0         0        1  \n",
       "41844      2.0     0.0        0         1        1  \n",
       "41845      0.0     4.0        0         0        0  \n",
       "\n",
       "[41846 rows x 13 columns]"
      ]
     },
     "execution_count": 2,
     "metadata": {},
     "output_type": "execute_result"
    }
   ],
   "source": [
    "fileName = 'test.csv'\n",
    "amplDF = pd.read_csv(fileName)\n",
    "amplDF.head(100000)"
   ]
  },
  {
   "cell_type": "markdown",
   "id": "9f8404bf",
   "metadata": {},
   "source": [
    "# Get the Combinations and Probabilities for each Row"
   ]
  },
  {
   "cell_type": "code",
   "execution_count": 3,
   "id": "b9a0fae4",
   "metadata": {
    "ExecuteTime": {
     "end_time": "2022-06-15T22:07:14.705007Z",
     "start_time": "2022-06-15T22:07:05.706615Z"
    }
   },
   "outputs": [],
   "source": [
    "tempDF = amplDF.copy()\n",
    "colNames = list(tempDF.columns)\n",
    "\n",
    "def probFunc(row):\n",
    "    sumVal = 0\n",
    "    prodVal = 1\n",
    "    for index in colNames:\n",
    "        prodVal *= math.comb(4,int(round(row[index])))\n",
    "        sumVal += int(row[index])\n",
    "    \n",
    "    return prodVal/math.comb(52,sumVal)\n",
    "\n",
    "def combFunc(row):\n",
    "    sumVal = 0\n",
    "    prodVal = 1\n",
    "    for index in colNames:\n",
    "        prodVal *= math.comb(4,int(round(row[index])))\n",
    "        sumVal += int(row[index])\n",
    "    \n",
    "    return prodVal*math.factorial(sumVal)*math.factorial(52-sumVal)\n",
    "\n",
    "def sumCheckFunc(row):\n",
    "    sumVal = 0\n",
    "    for index in colNames:\n",
    "        powVal = int(index.split('_')[0])\n",
    "        sumVal += powVal*int(round(row[index]))\n",
    "    \n",
    "    return sumVal\n",
    "\n",
    "def baseFiveFunc(row):\n",
    "    sumVal = 0\n",
    "    for index in colNames:\n",
    "        powVal = int(index.split('_')[0])\n",
    "        sumVal += 5**(powVal-1)*int(round(row[index]))\n",
    "    \n",
    "    return sumVal\n",
    "\n",
    "tempDF['Base 5'] = tempDF.apply(lambda x:baseFiveFunc(x),axis=1)\n",
    "tempDF['Sum Check'] = tempDF.apply(lambda x:sumCheckFunc(x),axis=1)\n",
    "tempDF['Probability'] = tempDF.apply(lambda x:probFunc(x),axis=1)\n",
    "tempDF['Combinations'] = tempDF.apply(lambda x:combFunc(x),axis=1)"
   ]
  },
  {
   "cell_type": "code",
   "execution_count": 4,
   "id": "73833670",
   "metadata": {
    "ExecuteTime": {
     "end_time": "2022-06-15T22:07:14.713034Z",
     "start_time": "2022-06-15T22:07:14.706323Z"
    }
   },
   "outputs": [
    {
     "name": "stdout",
     "output_type": "stream",
     "text": [
      "41846\n",
      "41846\n"
     ]
    }
   ],
   "source": [
    "print(sum(tempDF['Sum Check'] == 52))\n",
    "print(len(tempDF['Base 5'].unique()))"
   ]
  },
  {
   "cell_type": "code",
   "execution_count": 5,
   "id": "4ac7e09c",
   "metadata": {
    "ExecuteTime": {
     "end_time": "2022-06-15T22:07:14.721832Z",
     "start_time": "2022-06-15T22:07:14.713783Z"
    }
   },
   "outputs": [
    {
     "name": "stdout",
     "output_type": "stream",
     "text": [
      "Total Combinations: 32971740890333113723397069860455410468048612024114164531200000000000\n",
      "52!: 80658175170943878571660636856403766975289505440883277824000000000000\n",
      "0.40878362076074815\n",
      "0.4087836207607419\n"
     ]
    }
   ],
   "source": [
    "print('Total Combinations:',sum(tempDF['Combinations']))\n",
    "print('52!:',math.factorial(52))\n",
    "print(sum(tempDF['Combinations'])/math.factorial(52))\n",
    "print(sum(tempDF['Probability']))"
   ]
  },
  {
   "cell_type": "code",
   "execution_count": 6,
   "id": "12f0b7e4",
   "metadata": {
    "ExecuteTime": {
     "end_time": "2022-06-15T22:07:14.904407Z",
     "start_time": "2022-06-15T22:07:14.722690Z"
    }
   },
   "outputs": [
    {
     "name": "stdout",
     "output_type": "stream",
     "text": [
      "18.0\n"
     ]
    }
   ],
   "source": [
    "tempDF['Card Counts'] = tempDF[colNames].apply(lambda x:sum(x), axis=1)\n",
    "print(max(tempDF['Card Counts']))"
   ]
  },
  {
   "cell_type": "code",
   "execution_count": 7,
   "id": "22812a1b",
   "metadata": {
    "ExecuteTime": {
     "end_time": "2022-06-15T22:07:15.161955Z",
     "start_time": "2022-06-15T22:07:14.905236Z"
    }
   },
   "outputs": [],
   "source": [
    "tempDF.to_csv('solutions.csv')"
   ]
  },
  {
   "cell_type": "markdown",
   "id": "0d0ce688",
   "metadata": {},
   "source": [
    "# Simulations"
   ]
  },
  {
   "cell_type": "code",
   "execution_count": 31,
   "id": "73d38abe",
   "metadata": {
    "ExecuteTime": {
     "end_time": "2022-06-15T22:21:40.167634Z",
     "start_time": "2022-06-15T22:21:40.163937Z"
    }
   },
   "outputs": [
    {
     "name": "stdout",
     "output_type": "stream",
     "text": [
      "[1, 1, 1, 1, 2, 2, 2, 2, 3, 3, 3, 3, 4, 4, 4, 4, 5, 5, 5, 5, 6, 6, 6, 6, 7, 7, 7, 7, 8, 8, 8, 8, 9, 9, 9, 9, 10, 10, 10, 10, 11, 11, 11, 11, 12, 12, 12, 12, 13, 13, 13, 13]\n"
     ]
    }
   ],
   "source": [
    "cardList = []\n",
    "for i in range(13):\n",
    "    cardList += 4*[i+1]\n",
    "\n",
    "print(cardList)\n",
    "n = 10000000"
   ]
  },
  {
   "cell_type": "markdown",
   "id": "7a1a3d9d",
   "metadata": {},
   "source": [
    "## Top Cards Method"
   ]
  },
  {
   "cell_type": "code",
   "execution_count": 32,
   "id": "575e1ddc",
   "metadata": {
    "ExecuteTime": {
     "end_time": "2022-06-15T22:23:50.798654Z",
     "start_time": "2022-06-15T22:21:41.664489Z"
    }
   },
   "outputs": [
    {
     "name": "stdout",
     "output_type": "stream",
     "text": [
      "0.1421457\n"
     ]
    }
   ],
   "source": [
    "sum52 = 0\n",
    "sumNot52 = 0\n",
    "for i in range(n):\n",
    "    tempList = cardList.copy()\n",
    "    random.shuffle(tempList)\n",
    "    \n",
    "    sumVal = 0\n",
    "    while sumVal < 52:\n",
    "        sumVal += tempList.pop()\n",
    "    \n",
    "    if sumVal == 52:\n",
    "        sum52 += 1\n",
    "    else:\n",
    "        sumNot52 += 1\n",
    "\n",
    "percent52 = sum52/(sum52+sumNot52)\n",
    "print(percent52)"
   ]
  },
  {
   "cell_type": "markdown",
   "id": "fb152345",
   "metadata": {},
   "source": [
    "## Remove Card Method"
   ]
  },
  {
   "cell_type": "code",
   "execution_count": 77,
   "id": "9a61c8f6",
   "metadata": {
    "ExecuteTime": {
     "end_time": "2022-06-15T22:50:55.715825Z",
     "start_time": "2022-06-15T22:47:55.048290Z"
    }
   },
   "outputs": [
    {
     "name": "stdout",
     "output_type": "stream",
     "text": [
      "0.1418785\n"
     ]
    }
   ],
   "source": [
    "sum52 = 0\n",
    "sumNot52 = 0\n",
    "for i in range(n):\n",
    "    tempList = cardList.copy()\n",
    "    random.shuffle(tempList)\n",
    "    \n",
    "    bool52 = True\n",
    "    while tempList:\n",
    "        popLen = tempList[0]\n",
    "        \n",
    "        if popLen <= len(tempList):\n",
    "            for j in range(popLen):\n",
    "                tempList.pop(0)\n",
    "        else:\n",
    "            bool52 = False\n",
    "            tempList = []\n",
    "    \n",
    "    if bool52:\n",
    "        sum52 += 1\n",
    "    else:\n",
    "        sumNot52 += 1\n",
    "\n",
    "percent52 = sum52/(sum52+sumNot52)\n",
    "print(percent52)"
   ]
  },
  {
   "cell_type": "code",
   "execution_count": null,
   "id": "15b3d0be",
   "metadata": {},
   "outputs": [],
   "source": []
  }
 ],
 "metadata": {
  "kernelspec": {
   "display_name": "Python 3 (ipykernel)",
   "language": "python",
   "name": "python3"
  },
  "language_info": {
   "codemirror_mode": {
    "name": "ipython",
    "version": 3
   },
   "file_extension": ".py",
   "mimetype": "text/x-python",
   "name": "python",
   "nbconvert_exporter": "python",
   "pygments_lexer": "ipython3",
   "version": "3.9.2"
  },
  "toc": {
   "base_numbering": 1,
   "nav_menu": {},
   "number_sections": true,
   "sideBar": true,
   "skip_h1_title": false,
   "title_cell": "Table of Contents",
   "title_sidebar": "Contents",
   "toc_cell": true,
   "toc_position": {},
   "toc_section_display": true,
   "toc_window_display": true
  }
 },
 "nbformat": 4,
 "nbformat_minor": 5
}
